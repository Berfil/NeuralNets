{
 "cells": [
  {
   "cell_type": "code",
   "execution_count": 11,
   "metadata": {},
   "outputs": [],
   "source": [
    "# This configures the notebook to automatically reload code when it is changed in imported functions.\n",
    "%reload_ext autoreload\n",
    "%autoreload 2\n",
    "\n",
    "# Import all we need\n",
    "import numpy as np\n",
    "from matplotlib import pyplot as plt\n",
    "\n",
    "from utils import plotCase, loadDataSet, selectTrainingSamples, calcConfusionMatrix, calcAccuracy, plotResultDots, plotResultsOCR\n",
    "from classifiers import kNN\n",
    "\n",
    "plt.rcParams['figure.facecolor']='white'"
   ]
  },
  {
   "cell_type": "code",
   "execution_count": 48,
   "metadata": {},
   "outputs": [],
   "source": [
    "## Select which data to use:\n",
    "\n",
    "# 1 = dot cloud 1\n",
    "# 2 = dot cloud 2\n",
    "# 3 = dot cloud 3\n",
    "# 4 = OCR data\n",
    "\n",
    "dataSetNr = 4  # Change this to load new data\n",
    "\n",
    "# X - Data samples\n",
    "# D - Desired output from classifier for each sample\n",
    "# L - Labels for each sample\n",
    "X, D, L = loadDataSet(dataSetNr)\n",
    "\n",
    "# You can plot and study dataset 1 to 3 by running:\n",
    "if dataSetNr in [1,2,3]:\n",
    "    plotCase(X,L)"
   ]
  },
  {
   "cell_type": "code",
   "execution_count": 49,
   "metadata": {},
   "outputs": [],
   "source": [
    "# Select a subset of the training samples\n",
    "numBins = 2                     # Number of bins you want to divide your data into\n",
    "numSamplesPerLabelPerBin = 100  # Number of samples per label per bin, set to inf for max number (total number is numLabels*numSamplesPerBin)\n",
    "selectAtRandom = True           # true = select samples at random, false = select the first features\n",
    "\n",
    "# Split data into bins based on the settings above.\n",
    "# The outputs are lists of length numBins, where each item is a data array. Try printing for example XBins[0].shape.\n",
    "XBins, DBins, LBins = selectTrainingSamples(X, D, L, numSamplesPerLabelPerBin, numBins, selectAtRandom)\n",
    "\n",
    "# To extract a single bin from them use e.g.:\n",
    "# XBin0 = XBins[0]\n",
    "# Or to combine several bins into one matrix (good for cross validataion), use the numpy function concatenate:\n",
    "# XBinComb = np.concatenate(XBins[0:4])\n",
    "# This example combines 4 bins, nr 0 to 3.\n",
    "\n",
    "# Add your own code to setup data for training and test here\n",
    "XTrain = XBins[0]\n",
    "XTest = XBins[1]\n",
    "LTrain = LBins[0]\n",
    "LTest = LBins[1] \n"
   ]
  },
  {
   "cell_type": "code",
   "execution_count": 50,
   "metadata": {},
   "outputs": [],
   "source": [
    "# Select a value for k, either ...\n",
    "\n",
    "# ... set it manually\n",
    "k = 1\n",
    "\n",
    "# ... or find an optimal value using cross-validation (skip this until you have a working implementation of kNN)\n"
   ]
  },
  {
   "cell_type": "code",
   "execution_count": 51,
   "metadata": {},
   "outputs": [],
   "source": [
    "from scipy.stats import mode \n",
    "\n",
    "def euclidian_distance(row_1, row_2):\n",
    "        \n",
    "        distance = np.sqrt(np.sum((row_1-row_2)**2))\n",
    "        \n",
    "        return(distance)\n"
   ]
  },
  {
   "cell_type": "code",
   "execution_count": 56,
   "metadata": {},
   "outputs": [],
   "source": [
    "# Use kNN to classify data\n",
    "# Note: you have to modify the kNN() function in classifiers.py yourself.\n",
    "\n",
    "# Classify training data\n",
    "LPredTrain = kNN(XTrain, k, XTrain, LTrain)\n",
    "# Classify test data\n",
    "LPredTest  = kNN(XTest , k, XTrain, LTrain)\n"
   ]
  },
  {
   "cell_type": "code",
   "execution_count": 57,
   "metadata": {},
   "outputs": [
    {
     "name": "stdout",
     "output_type": "stream",
     "text": [
      "Confusion matrix:\n",
      "[[100.   0.   0.   0.   0.   0.   0.   0.   0.   0.]\n",
      " [  0.  99.   0.   0.   0.   0.   0.   0.   1.   0.]\n",
      " [  0.   1.  98.   0.   0.   0.   0.   0.   0.   1.]\n",
      " [  0.   1.   0.  97.   0.   0.   0.   0.   1.   1.]\n",
      " [  0.   1.   0.   0.  97.   0.   1.   0.   0.   1.]\n",
      " [  0.   0.   0.   1.   0.  95.   0.   0.   0.   4.]\n",
      " [  0.   0.   0.   0.   1.   0.  99.   0.   0.   0.]\n",
      " [  0.   0.   0.   0.   0.   0.   0.  97.   0.   3.]\n",
      " [  0.   6.   0.   1.   0.   0.   0.   0.  92.   1.]\n",
      " [  0.   0.   0.   1.   1.   2.   0.   1.   0.  95.]]\n",
      "Accuracy: 0.9690\n"
     ]
    }
   ],
   "source": [
    "# Calculate The Confusion Matrix and the Accuracy\n",
    "# Note: you have to modify the calcConfusionMatrix() and calcAccuracy() functions in utils.py yourself.\n",
    "\n",
    "# The confusion matrix\n",
    "cM = calcConfusionMatrix(LPredTest, LTest)\n",
    "\n",
    "# The accuracy\n",
    "acc = calcAccuracy(cM)\n",
    "\n",
    "# Print the results\n",
    "print(\"Confusion matrix:\")\n",
    "print(cM)\n",
    "print(f'Accuracy: {acc:.4f}')"
   ]
  },
  {
   "cell_type": "code",
   "execution_count": 54,
   "metadata": {},
   "outputs": [
    {
     "name": "stdout",
     "output_type": "stream",
     "text": [
      "1\n",
      "0.98\n",
      "2\n",
      "0.97\n",
      "3\n",
      "0.977\n",
      "4\n",
      "0.978\n",
      "5\n",
      "0.978\n",
      "6\n",
      "0.975\n",
      "7\n",
      "0.978\n",
      "8\n",
      "0.973\n",
      "9\n",
      "0.973\n"
     ]
    }
   ],
   "source": [
    "# Cross validation\n",
    "for k_0 in range(1,10):\n",
    "    classification_list = []\n",
    "    for i in range(XTrain.shape[0]):\n",
    "    \n",
    "    \n",
    "        out_put = kNN(np.array([XTrain[i,:]]) , k_0 , np.delete(XTrain , i, 0) , np.delete(LTrain,i))\n",
    "        classification_list.append(out_put)\n",
    "    classification_list = np.array(classification_list).flatten()\n",
    "    # The accuracy\n",
    "    cross_validation_number = calcAccuracy(calcConfusionMatrix(classification_list, LTrain))  \n",
    "    print(k_0)\n",
    "    print(cross_validation_number)"
   ]
  },
  {
   "cell_type": "code",
   "execution_count": 58,
   "metadata": {},
   "outputs": [
    {
     "data": {
      "image/png": "[encoded data removed]",
      "text/plain": [
       "<Figure size 432x288 with 16 Axes>"
      ]
     },
     "metadata": {},
     "output_type": "display_data"
    }
   ],
   "source": [
    "# Plot classifications\n",
    "# Note: You should not have to modify this code\n",
    "\n",
    "if dataSetNr < 4:\n",
    "    plotResultDots(XTrain, LTrain, LPredTrain, XTest, LTest, LPredTest, 'kNN', [], k)\n",
    "else:\n",
    "    plotResultsOCR(XTest, LTest, LPredTest)"
   ]
  },
  {
   "cell_type": "code",
   "execution_count": null,
   "metadata": {},
   "outputs": [],
   "source": []
  }
 ],
 "metadata": {
  "interpreter": {
   "hash": "bd50aace418a96e8a4fe691a4d2292bd7058ca4eeebcf0b6e2084f539c4e7b28"
  },
  "kernelspec": {
   "display_name": "Python 3 (ipykernel)",
   "language": "python",
   "name": "python3"
  },
  "language_info": {
   "codemirror_mode": {
    "name": "ipython",
    "version": 3
   },
   "file_extension": ".py",
   "mimetype": "text/x-python",
   "name": "python",
   "nbconvert_exporter": "python",
   "pygments_lexer": "ipython3",
   "version": "3.7.11"
  }
 },
 "nbformat": 4,
 "nbformat_minor": 4
}
